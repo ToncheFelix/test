{
 "cells": [
  {
   "cell_type": "markdown",
   "metadata": {},
   "source": [
    "# Sesion Intro - LaunchX \n",
    "## Python -Jupyter NoteBooks\n",
    "### feb 09\n",
    "> Desc: siguiendo el envivo!\n",
    "- Felix Tonche V."
   ]
  },
  {
   "cell_type": "markdown",
   "metadata": {},
   "source": [
    "## Variables\n",
    "Las variables se definen por:\n",
    "* tipo\n",
    "* valor\n",
    "* nombre"
   ]
  },
  {
   "cell_type": "code",
   "execution_count": 103,
   "metadata": {},
   "outputs": [
    {
     "name": "stdout",
     "output_type": "stream",
     "text": [
      "holaa\n"
     ]
    }
   ],
   "source": [
    "# mi primer markdown \n",
    "print(\"holaa\")"
   ]
  },
  {
   "cell_type": "code",
   "execution_count": 5,
   "metadata": {},
   "outputs": [
    {
     "name": "stdout",
     "output_type": "stream",
     "text": [
      "hola\n"
     ]
    }
   ],
   "source": [
    "# con variable\n",
    "msg = \"hola\"\n",
    "print(msg)"
   ]
  },
  {
   "cell_type": "code",
   "execution_count": 9,
   "metadata": {},
   "outputs": [],
   "source": [
    "\n",
    "titulo = 'Programando hotcakes'\n",
    "# Asignación de ingredientes en la memoria del programa\n",
    "huevo = 3\n",
    "leche = 1.5\n",
    "mantequilla = 0.045\n",
    "harina = 3\n",
    "cditaVainilla = 0.015\n"
   ]
  },
  {
   "cell_type": "code",
   "execution_count": 10,
   "metadata": {},
   "outputs": [
    {
     "name": "stdout",
     "output_type": "stream",
     "text": [
      "1.5\n"
     ]
    }
   ],
   "source": [
    "print(leche)"
   ]
  },
  {
   "cell_type": "code",
   "execution_count": 11,
   "metadata": {},
   "outputs": [
    {
     "name": "stdout",
     "output_type": "stream",
     "text": [
      " Cantidad de leche: 1.5\n"
     ]
    }
   ],
   "source": [
    "print(f' Cantidad de leche: {leche}')"
   ]
  },
  {
   "cell_type": "code",
   "execution_count": 13,
   "metadata": {},
   "outputs": [
    {
     "name": "stdout",
     "output_type": "stream",
     "text": [
      " Cantidad de leche: 1.5 \n",
      " Cantidad de huevo: 3\n"
     ]
    }
   ],
   "source": [
    "print(f' Cantidad de leche: {leche} \\n Cantidad de huevo: {huevo}')"
   ]
  },
  {
   "cell_type": "code",
   "execution_count": 14,
   "metadata": {},
   "outputs": [
    {
     "name": "stdout",
     "output_type": "stream",
     "text": [
      "7.59\n"
     ]
    }
   ],
   "source": [
    "mezcla = huevo + leche + mantequilla + harina + mantequilla\n",
    "print(mezcla)"
   ]
  },
  {
   "cell_type": "code",
   "execution_count": 33,
   "metadata": {},
   "outputs": [
    {
     "name": "stdout",
     "output_type": "stream",
     "text": [
      "Revisa tus ingredientes\n"
     ]
    }
   ],
   "source": [
    "# Condiciones\n",
    "# Reglas\n",
    "\n",
    "'''\n",
    "huevo = 3\n",
    "leche = 1.5\n",
    "mantequilla = 0.045\n",
    "harina = 3\n",
    "cditaVainilla = 0.015\n",
    "'''\n",
    "if (huevo == 3.2):\n",
    "    print('La cantidad de huevo es correcta')\n",
    "elif (leche == 1.510):\n",
    "    print('La cantidad de leche es correcta')\n",
    "elif (mantequilla == 0.015):\n",
    "    print('La cantidad de mantequilla es correcta')\n",
    "else:\n",
    "    print('Revisa tus ingredientes')\n",
    "    "
   ]
  },
  {
   "cell_type": "code",
   "execution_count": 34,
   "metadata": {},
   "outputs": [
    {
     "name": "stdout",
     "output_type": "stream",
     "text": [
      "La mezcla alcanzó para 2.53 hotcakes por persona\n"
     ]
    }
   ],
   "source": [
    "# Repartirlos\n",
    "\n",
    "porcion = mezcla / 3\n",
    "print(f'La mezcla alcanzó para {porcion} hotcakes por persona')"
   ]
  },
  {
   "cell_type": "markdown",
   "metadata": {},
   "source": [
    "## Cadenas\n",
    "Serie de caracteres, entre comillas dobles \"\" o simples ''"
   ]
  },
  {
   "cell_type": "code",
   "execution_count": 38,
   "metadata": {},
   "outputs": [
    {
     "name": "stdout",
     "output_type": "stream",
     "text": [
      "Ada Lovelace\n"
     ]
    }
   ],
   "source": [
    "#Strings\n",
    "name = 'Ada Lovelace'\n",
    "print(name.title())"
   ]
  },
  {
   "cell_type": "code",
   "execution_count": 39,
   "metadata": {},
   "outputs": [
    {
     "name": "stdout",
     "output_type": "stream",
     "text": [
      "ADA LOVELACE\n"
     ]
    }
   ],
   "source": [
    "print(name.upper())"
   ]
  },
  {
   "cell_type": "code",
   "execution_count": 40,
   "metadata": {},
   "outputs": [
    {
     "name": "stdout",
     "output_type": "stream",
     "text": [
      "ada lovelace\n"
     ]
    }
   ],
   "source": [
    "print(name.lower())"
   ]
  },
  {
   "cell_type": "code",
   "execution_count": 41,
   "metadata": {},
   "outputs": [
    {
     "name": "stdout",
     "output_type": "stream",
     "text": [
      "False\n",
      "Ada Lovelace\n"
     ]
    }
   ],
   "source": [
    "print(name.islower())\n",
    "print(name)"
   ]
  },
  {
   "cell_type": "code",
   "execution_count": 42,
   "metadata": {},
   "outputs": [
    {
     "name": "stdout",
     "output_type": "stream",
     "text": [
      "True\n",
      "ada lovelace\n"
     ]
    }
   ],
   "source": [
    "name = name.lower()\n",
    "print(name.islower())\n",
    "print(name)"
   ]
  },
  {
   "cell_type": "code",
   "execution_count": 43,
   "metadata": {},
   "outputs": [
    {
     "name": "stdout",
     "output_type": "stream",
     "text": [
      "ada           lovelace  \n"
     ]
    }
   ],
   "source": [
    "first_name = 'ada'\n",
    "last_name = '          lovelace  '\n",
    "print(f'{first_name} {last_name}')"
   ]
  },
  {
   "cell_type": "code",
   "execution_count": 44,
   "metadata": {},
   "outputs": [],
   "source": [
    "# Quitar espacios\n",
    "\n",
    "last_name = last_name.strip()"
   ]
  },
  {
   "cell_type": "code",
   "execution_count": 45,
   "metadata": {},
   "outputs": [
    {
     "name": "stdout",
     "output_type": "stream",
     "text": [
      "lovelace\n"
     ]
    }
   ],
   "source": [
    "print(last_name)"
   ]
  },
  {
   "cell_type": "code",
   "execution_count": 46,
   "metadata": {},
   "outputs": [
    {
     "name": "stdout",
     "output_type": "stream",
     "text": [
      "lovelace  \n"
     ]
    }
   ],
   "source": [
    "last_name = '          lovelace  '\n",
    "last_name = last_name.lstrip()\n",
    "print(last_name)"
   ]
  },
  {
   "cell_type": "code",
   "execution_count": 47,
   "metadata": {},
   "outputs": [
    {
     "name": "stdout",
     "output_type": "stream",
     "text": [
      "lovelace\n"
     ]
    }
   ],
   "source": [
    "last_name = last_name.rstrip()\n",
    "print(last_name)"
   ]
  },
  {
   "cell_type": "code",
   "execution_count": 48,
   "metadata": {},
   "outputs": [
    {
     "name": "stdout",
     "output_type": "stream",
     "text": [
      "Felix Tonche\n"
     ]
    }
   ],
   "source": [
    "# Usando variables en cadenas\n",
    "nombre = 'Felix'\n",
    "apellido = 'Tonche'\n",
    "nombre_completo = f'{nombre} {apellido}'\n",
    "print(nombre_completo)"
   ]
  },
  {
   "cell_type": "markdown",
   "metadata": {},
   "source": [
    "## Listas\n",
    "Almacena una serie de elementos\n",
    "\n",
    "**Funciones** (solo unos ejemplos de métodos en listas)\n",
    "- append\n",
    "- insert\n",
    "- pop\n",
    "- sort\n",
    "- len"
   ]
  },
  {
   "cell_type": "code",
   "execution_count": 58,
   "metadata": {},
   "outputs": [
    {
     "name": "stdout",
     "output_type": "stream",
     "text": [
      "[1, 2, 3, 4, 5]\n"
     ]
    }
   ],
   "source": [
    "lista1 = [1,2,3,4,5]\n",
    "print(lista1)"
   ]
  },
  {
   "cell_type": "code",
   "execution_count": 59,
   "metadata": {},
   "outputs": [
    {
     "name": "stdout",
     "output_type": "stream",
     "text": [
      "[1, 2, 3, 4, 5, 6]\n"
     ]
    }
   ],
   "source": [
    "lista1.append(6)\n",
    "print(lista1)"
   ]
  },
  {
   "cell_type": "code",
   "execution_count": 86,
   "metadata": {},
   "outputs": [],
   "source": [
    "ingredientes = ['huevo', 'harina', 'leche']"
   ]
  },
  {
   "cell_type": "code",
   "execution_count": 61,
   "metadata": {},
   "outputs": [
    {
     "data": {
      "text/plain": [
       "'huevo'"
      ]
     },
     "execution_count": 61,
     "metadata": {},
     "output_type": "execute_result"
    }
   ],
   "source": [
    "# Primer elemento\n",
    "ingredientes[0]"
   ]
  },
  {
   "cell_type": "code",
   "execution_count": 65,
   "metadata": {},
   "outputs": [
    {
     "data": {
      "text/plain": [
       "'mantequilla'"
      ]
     },
     "execution_count": 65,
     "metadata": {},
     "output_type": "execute_result"
    }
   ],
   "source": [
    "# Úlltima posición\n",
    "ingredientes[-1]"
   ]
  },
  {
   "cell_type": "code",
   "execution_count": 87,
   "metadata": {},
   "outputs": [],
   "source": [
    "# Append()\n",
    "ingredientes.append('mantequilla')"
   ]
  },
  {
   "cell_type": "code",
   "execution_count": 89,
   "metadata": {},
   "outputs": [
    {
     "name": "stdout",
     "output_type": "stream",
     "text": [
      "['huevo', 'harina', 'vainilla', 'vainilla', 'leche', 'mantequilla']\n"
     ]
    }
   ],
   "source": [
    "# Insert\n",
    "ingredientes.insert(2,'vainilla')\n",
    "print(ingredientes)"
   ]
  },
  {
   "cell_type": "code",
   "execution_count": 90,
   "metadata": {},
   "outputs": [
    {
     "name": "stdout",
     "output_type": "stream",
     "text": [
      "['huevo', 'harina', 'vainilla', 'leche', 'mantequilla']\n"
     ]
    }
   ],
   "source": [
    "# Pop\n",
    "ingredientes.pop(3)\n",
    "print(ingredientes)"
   ]
  },
  {
   "cell_type": "code",
   "execution_count": 91,
   "metadata": {},
   "outputs": [
    {
     "name": "stdout",
     "output_type": "stream",
     "text": [
      "['huevo', 'vainilla', 'leche', 'mantequilla']\n"
     ]
    }
   ],
   "source": [
    "# Remove\n",
    "ingredientes.remove('harina')\n",
    "print(ingredientes)"
   ]
  },
  {
   "cell_type": "code",
   "execution_count": 92,
   "metadata": {},
   "outputs": [
    {
     "name": "stdout",
     "output_type": "stream",
     "text": [
      "['huevo', 'leche', 'mantequilla', 'vainilla']\n"
     ]
    }
   ],
   "source": [
    "# Sort A-Z\n",
    "ingredientes.sort()\n",
    "print(ingredientes)"
   ]
  },
  {
   "cell_type": "code",
   "execution_count": 93,
   "metadata": {},
   "outputs": [
    {
     "name": "stdout",
     "output_type": "stream",
     "text": [
      "['vainilla', 'mantequilla', 'leche', 'huevo']\n"
     ]
    }
   ],
   "source": [
    "# Reverse Z-A\n",
    "ingredientes.reverse()\n",
    "print(ingredientes)"
   ]
  },
  {
   "cell_type": "code",
   "execution_count": 94,
   "metadata": {},
   "outputs": [
    {
     "data": {
      "text/plain": [
       "4"
      ]
     },
     "execution_count": 94,
     "metadata": {},
     "output_type": "execute_result"
    }
   ],
   "source": [
    "# Longitud\n",
    "len(ingredientes)"
   ]
  },
  {
   "cell_type": "code",
   "execution_count": 95,
   "metadata": {},
   "outputs": [
    {
     "name": "stdout",
     "output_type": "stream",
     "text": [
      "huevo\n"
     ]
    }
   ],
   "source": [
    "print(ingredientes[-1])"
   ]
  },
  {
   "cell_type": "code",
   "execution_count": 96,
   "metadata": {},
   "outputs": [
    {
     "name": "stdout",
     "output_type": "stream",
     "text": [
      "['vainilla', 'mantequilla']\n"
     ]
    }
   ],
   "source": [
    "# Slicing\n",
    "primeros_dos = ingredientes[:2]\n",
    "print(primeros_dos)"
   ]
  },
  {
   "cell_type": "code",
   "execution_count": 97,
   "metadata": {},
   "outputs": [
    {
     "name": "stdout",
     "output_type": "stream",
     "text": [
      "['vainilla', 'mantequilla', 'leche', 'huevo']\n"
     ]
    }
   ],
   "source": [
    "# Copiar una lista\n",
    "copy_list = ingredientes[:]\n",
    "print(copy_list)"
   ]
  },
  {
   "cell_type": "markdown",
   "metadata": {},
   "source": [
    "## Tuplas\n",
    "Las tuplas son similares a las listas, pero los elementos de una tupla no se pueden modificar."
   ]
  },
  {
   "cell_type": "code",
   "execution_count": 98,
   "metadata": {},
   "outputs": [
    {
     "name": "stdout",
     "output_type": "stream",
     "text": [
      "1080\n",
      "720\n"
     ]
    }
   ],
   "source": [
    "dimensiones = (1080,720)\n",
    "print(dimensiones[0])\n",
    "print(dimensiones[1])"
   ]
  },
  {
   "cell_type": "code",
   "execution_count": 104,
   "metadata": {},
   "outputs": [
    {
     "ename": "TypeError",
     "evalue": "'tuple' object does not support item assignment",
     "output_type": "error",
     "traceback": [
      "\u001b[1;31m---------------------------------------------------------------------------\u001b[0m",
      "\u001b[1;31mTypeError\u001b[0m                                 Traceback (most recent call last)",
      "\u001b[1;32mc:\\Users\\Felix\\Documents\\MEGA\\UNIVERSIDAD\\12_WORK\\Cursos\\MICROSOFT\\Onboarding\\CursoPython\\Intro.ipynb Cell 41'\u001b[0m in \u001b[0;36m<module>\u001b[1;34m\u001b[0m\n\u001b[0;32m      <a href='vscode-notebook-cell:/c%3A/Users/Felix/Documents/MEGA/UNIVERSIDAD/12_WORK/Cursos/MICROSOFT/Onboarding/CursoPython/Intro.ipynb#ch0000051?line=0'>1</a>\u001b[0m \u001b[39m# No se puede lo siguiente en tuplas\u001b[39;00m\n\u001b[1;32m----> <a href='vscode-notebook-cell:/c%3A/Users/Felix/Documents/MEGA/UNIVERSIDAD/12_WORK/Cursos/MICROSOFT/Onboarding/CursoPython/Intro.ipynb#ch0000051?line=1'>2</a>\u001b[0m dimensiones[\u001b[39m1\u001b[39m] \u001b[39m=\u001b[39m \u001b[39m1080\u001b[39m\n",
      "\u001b[1;31mTypeError\u001b[0m: 'tuple' object does not support item assignment"
     ]
    }
   ],
   "source": [
    "# No se puede lo siguiente en tuplas\n",
    "dimensiones[1] = 1080"
   ]
  },
  {
   "cell_type": "code",
   "execution_count": 100,
   "metadata": {},
   "outputs": [
    {
     "name": "stdout",
     "output_type": "stream",
     "text": [
      "Dimensiones originales\n",
      "1080\n",
      "720\n"
     ]
    }
   ],
   "source": [
    "print('Dimensiones originales')\n",
    "for dim in dimensiones:\n",
    "    print(dim)"
   ]
  },
  {
   "cell_type": "code",
   "execution_count": 101,
   "metadata": {},
   "outputs": [
    {
     "name": "stdout",
     "output_type": "stream",
     "text": [
      "(1080, 1080)\n"
     ]
    }
   ],
   "source": [
    "dimensiones = (1080,1080)\n",
    "print(dimensiones)"
   ]
  },
  {
   "cell_type": "code",
   "execution_count": 102,
   "metadata": {},
   "outputs": [
    {
     "name": "stdout",
     "output_type": "stream",
     "text": [
      "1080\n",
      "1080\n"
     ]
    }
   ],
   "source": [
    "for d in dimensiones:\n",
    "    print(d)"
   ]
  },
  {
   "cell_type": "markdown",
   "metadata": {},
   "source": [
    "## Ciclos\n",
    "- Ciclo for\n",
    "- Ciclo while"
   ]
  },
  {
   "cell_type": "code",
   "execution_count": 106,
   "metadata": {},
   "outputs": [
    {
     "name": "stdout",
     "output_type": "stream",
     "text": [
      "Añadiendo ingredientes a la orden: crema de chocolate\n",
      "Añadiendo ingredientes a la orden: chispas\n",
      "Añadiendo ingredientes a la orden: relleno de crema\n",
      "Añadiendo ingredientes a la orden: nueces\n",
      "\n",
      " Tu Cupcake está listo\n"
     ]
    }
   ],
   "source": [
    "## Cupcake decoración\n",
    "\n",
    "el_cliente_quiere = ['crema de chocolate', 'chispas', 'relleno de crema', 'nueces']\n",
    "\n",
    "for i in el_cliente_quiere:\n",
    "    print(f'Añadiendo ingredientes a la orden: {i}')\n",
    "\n",
    "\n",
    "print('\\n Tu Cupcake está listo')"
   ]
  },
  {
   "cell_type": "code",
   "execution_count": 107,
   "metadata": {},
   "outputs": [
    {
     "name": "stdout",
     "output_type": "stream",
     "text": [
      "Añadiendo ingredientes a la orden\n",
      "Añadiendo ingredientes a la orden\n",
      "Añadiendo ingredientes a la orden\n",
      "Lo sentimos, no hay nueces, puede agregar almendras :)\n",
      "\n",
      " Tu Cupcake está listo\n"
     ]
    }
   ],
   "source": [
    "\n",
    "for i in el_cliente_quiere:\n",
    "    if i == 'nueces':\n",
    "        print('Lo sentimos, no hay nueces, puede agregar almendras :)')\n",
    "    else:\n",
    "        print(f'Añadiendo ingredientes a la orden')\n",
    "\n",
    "\n",
    "print('\\n Tu Cupcake está listo')"
   ]
  },
  {
   "cell_type": "code",
   "execution_count": 108,
   "metadata": {},
   "outputs": [
    {
     "name": "stdout",
     "output_type": "stream",
     "text": [
      "Añadiendo crema de chocolate\n",
      "Añadiendo chispas\n",
      "Añadiendo relleno de crema\n",
      "Añadiendo nueces\n",
      "\n",
      " Tu Cupcake está listo\n"
     ]
    }
   ],
   "source": [
    "extras_disponibles = ['crema de chocolate', 'perlas', 'chispas', 'relleno de crema', 'nueces']\n",
    "\n",
    "el_cliente_quiere = ['crema de chocolate', 'chispas', 'relleno de crema', 'nueces']\n",
    "\n",
    "for i in el_cliente_quiere:\n",
    "    if i in extras_disponibles:\n",
    "        print(f'Añadiendo {i}')\n",
    "    else:\n",
    "        print(f'lo sentimos, no tenemos {i}')\n",
    "\n",
    "print('\\n Tu Cupcake está listo')\n",
    "    "
   ]
  },
  {
   "cell_type": "code",
   "execution_count": null,
   "metadata": {},
   "outputs": [],
   "source": []
  }
 ],
 "metadata": {
  "interpreter": {
   "hash": "3111baa9af51e81b1c55f9e9a85a0777aa6adeb733b62bd6ba4d28d54b1a7202"
  },
  "kernelspec": {
   "display_name": "Python 3.9.10 64-bit (windows store)",
   "language": "python",
   "name": "python3"
  },
  "language_info": {
   "codemirror_mode": {
    "name": "ipython",
    "version": 3
   },
   "file_extension": ".py",
   "mimetype": "text/x-python",
   "name": "python",
   "nbconvert_exporter": "python",
   "pygments_lexer": "ipython3",
   "version": "3.9.6"
  },
  "orig_nbformat": 4
 },
 "nbformat": 4,
 "nbformat_minor": 2
}
